{
 "cells": [
  {
   "cell_type": "code",
   "execution_count": null,
   "metadata": {},
   "outputs": [],
   "source": [
    "import torch\n",
    "import pickle\n",
    "import itertools\n",
    "import generate\n",
    "from model import CharacterModel"
   ]
  },
  {
   "cell_type": "markdown",
   "metadata": {},
   "source": [
    "# Load the model"
   ]
  },
  {
   "cell_type": "code",
   "execution_count": null,
   "metadata": {},
   "outputs": [],
   "source": [
    "# settings\n",
    "cell = 'LSTM'\n",
    "hidden_size = 64\n",
    "token = 'character'\n",
    "\n",
    "# create the model\n",
    "with open('full_vocab.pkl', 'rb') as f:\n",
    "    vocab = pickle.load(f)\n",
    "model = CharacterModel(cell, hidden_size, vocab)\n",
    "model.load_state_dict(torch.load('LSTM_64_20.pt'))\n",
    "model.eval()"
   ]
  },
  {
   "cell_type": "markdown",
   "metadata": {},
   "source": [
    "# Generate your thesis"
   ]
  },
  {
   "cell_type": "code",
   "execution_count": null,
   "metadata": {
    "scrolled": false
   },
   "outputs": [],
   "source": [
    "temperature = 0.5 # how spicy do you want your thesis to be?\n",
    "n_chars = 100\n",
    "\n",
    "bases = ['The Standard Mo', 'The Inner D', 'Z → ', 'Phys. Rev. L', '[12] S. Weinb']\n",
    "\n",
    "for base, t in itertools.product(bases, [0.1, 0.5, 0.75, 1.0]):\n",
    "    print(base, '(T = {})'.format(t))\n",
    "    print(model.compose(base, t, n_chars))\n",
    "    print()"
   ]
  },
  {
   "cell_type": "code",
   "execution_count": null,
   "metadata": {},
   "outputs": [],
   "source": []
  }
 ],
 "metadata": {
  "kernelspec": {
   "display_name": "Python (autothesis)",
   "language": "python",
   "name": "autothesis"
  },
  "language_info": {
   "codemirror_mode": {
    "name": "ipython",
    "version": 3
   },
   "file_extension": ".py",
   "mimetype": "text/x-python",
   "name": "python",
   "nbconvert_exporter": "python",
   "pygments_lexer": "ipython3",
   "version": "3.6.0"
  }
 },
 "nbformat": 4,
 "nbformat_minor": 2
}
